{
 "cells": [
  {
   "cell_type": "markdown",
   "metadata": {},
   "source": [
    "# Google Takeout\n",
    "The purpose of this Jupyter notebook is to help discover the way the data in Google Takeout is stored."
   ]
  },
  {
   "cell_type": "code",
   "execution_count": 1,
   "metadata": {},
   "outputs": [],
   "source": [
    "from zipfile import ZipFile as zf"
   ]
  },
  {
   "cell_type": "code",
   "execution_count": 2,
   "metadata": {},
   "outputs": [],
   "source": [
    "file = 'C:\\\\Users\\\\lenny.meerwood\\\\Downloads\\\\takeout-20190628T012755Z-001.zip'"
   ]
  },
  {
   "cell_type": "code",
   "execution_count": 7,
   "metadata": {},
   "outputs": [
    {
     "name": "stdout",
     "output_type": "stream",
     "text": [
      "{'Android Device Configuration Service', 'Google Play Music', 'Home App', 'Google One', 'Fit', 'Google Shopping', 'Google Play Books', 'Cloud Print', 'Reminders', 'Fusion Tables', 'Google Pay', 'Tasks (Migration)', 'Voice', 'Google Play Store', 'Google+ Stream', 'Keep', 'Hangouts', 'YouTube', 'Maps (your places)', 'Purchases _ Reservations', 'G Suite Marketplace', 'News', 'Shopping Lists', 'Bookmarks', 'My Maps', 'Blogger', 'Profile', 'My Activity', 'Maps', 'Google Play Movies _ TV', 'Location History', 'Contacts', 'Chrome', 'Calendar', 'Google Play Games Services', 'Saved', 'Google My Business'}\n"
     ]
    }
   ],
   "source": [
    "with zf(file) as zipped:\n",
    "    \n",
    "    infos = zipped.infolist()\n",
    "\n",
    "folders = set()\n",
    "for info in infos:\n",
    "    root_folder = info.filename.split('/')[1]\n",
    "    if '.html' not in root_folder:\n",
    "        folders.add(root_folder)\n",
    "\n",
    "print(folders)"
   ]
  },
  {
   "cell_type": "code",
   "execution_count": null,
   "metadata": {},
   "outputs": [],
   "source": [
    "import os, glob, json, time"
   ]
  },
  {
   "cell_type": "code",
   "execution_count": null,
   "metadata": {},
   "outputs": [],
   "source": [
    "current_dir = os.getcwd()\n",
    "print(current_dir)\n",
    "os.chdir('C:\\\\Users\\\\lenny.meerwood\\\\Desktop\\\\Takeout\\\\Purchases _ Reservations')"
   ]
  },
  {
   "cell_type": "code",
   "execution_count": null,
   "metadata": {},
   "outputs": [],
   "source": [
    "orders = {}\n",
    "read_count = 0\n",
    "parsed_count = 0\n",
    "for file in glob.glob(\"*.json\"):\n",
    "    read_count += 1\n",
    "    try:\n",
    "        with open(file) as json_file:\n",
    "            data = json.load(json_file)\n",
    "            \n",
    "            merchant = data.get('transactionMerchant')\n",
    "            if merchant is not None:\n",
    "                merchant_name = merchant.get('name', \"NO NAME\")\n",
    "            else:\n",
    "                merchant_name = data.get('merchantOrderId', \"NO MERCHANT NAME OR TRANSACTION ID\")\n",
    "            merchant_name = f\"{merchant_name} {read_count}\"\n",
    "            purchase_epoch = int(data['creationTime']['usecSinceEpochUtc']) / 1_000_000\n",
    "            date_of_purchase = time.strftime('%Y-%m-%d %H:%M:%S', time.localtime(purchase_epoch))\n",
    "            orders[merchant_name] = date_of_purchase\n",
    "            parsed_count += 1\n",
    "    except UnicodeDecodeError as decode_err:\n",
    "        pass\n",
    "#         print(f\"\\n\\nCould not open {file}.\\n{decode_err}\\n\\n\")\n",
    "    except KeyError as key_err:\n",
    "        pass\n",
    "#         print(f\"\\n\\n Skipped file {file}. It has no timestamp\\n\\n\")\n",
    "    except AttributeError as err:\n",
    "        print(f\"\\n\\n Skipped file {file}. Had an attribute error: {err}\\n\\n\")\n",
    "        \n",
    "print(f\"Read {read_count} files, parsed {parsed_count}\")"
   ]
  },
  {
   "cell_type": "code",
   "execution_count": null,
   "metadata": {},
   "outputs": [],
   "source": [
    "import csv"
   ]
  },
  {
   "cell_type": "code",
   "execution_count": null,
   "metadata": {},
   "outputs": [],
   "source": [
    "os.chdir(current_dir)\n",
    "keys = orders.keys()\n",
    "with open('purchases.csv', 'w') as output_file:\n",
    "    csv_writer = csv.writer(output_file, lineterminator='\\n')\n",
    "    csv_writer.writerow(['Merchant ID', 'Date'])\n",
    "    for key in keys:\n",
    "        csv_writer.writerow([key, orders[key]])\n",
    "    "
   ]
  }
 ],
 "metadata": {
  "kernelspec": {
   "display_name": "Python 3",
   "language": "python",
   "name": "python3"
  },
  "language_info": {
   "codemirror_mode": {
    "name": "ipython",
    "version": 3
   },
   "file_extension": ".py",
   "mimetype": "text/x-python",
   "name": "python",
   "nbconvert_exporter": "python",
   "pygments_lexer": "ipython3",
   "version": "3.7.3"
  }
 },
 "nbformat": 4,
 "nbformat_minor": 2
}
